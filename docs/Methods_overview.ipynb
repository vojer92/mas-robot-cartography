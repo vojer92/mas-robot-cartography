{
 "cells": [
  {
   "metadata": {},
   "cell_type": "markdown",
   "source": [
    "# Methoden-Übersicht\n",
    "für das Fachpraktikum Simulation Multiagentensysteme\n",
    "mit dem Thema Entwicklung eines Multiagentensystems zur kooperativen Erkundung in einer 2D-Simulationsumgebung"
   ],
   "id": "1b6542388fa549af"
  },
  {
   "metadata": {},
   "cell_type": "markdown",
   "source": "## Umgebungswahrnehmung",
   "id": "63e026690a612e30"
  },
  {
   "metadata": {},
   "cell_type": "markdown",
   "source": "Umgebung: 2D-Moore-Grid",
   "id": "844d67ed7196119b"
  },
  {
   "metadata": {},
   "cell_type": "markdown",
   "source": "### Raycasting mit Bresenham-Algorithmus",
   "id": "e309891f4669f074"
  },
  {
   "metadata": {},
   "cell_type": "markdown",
   "source": "Simuliert die Sichtlinie und Sensorreichweite im Grid, um festzustellen, welche Felder sichtbar sind. Der Bresenham-Algorithmus wird verwendet, um die Zellen zu bestimmen, die eine Linie zwischen zwei Punkten kreuzt, was für Grid-basierte Umgebungen effizient ist.",
   "id": "9808fd3cc5e249a7"
  },
  {
   "metadata": {},
   "cell_type": "markdown",
   "source": [
    "Vorteile:\n",
    "* Effizient für Grid-basierte Umgebungen\n",
    "* Einfach zu implementieren"
   ],
   "id": "906bde42721e65c3"
  },
  {
   "metadata": {},
   "cell_type": "markdown",
   "source": [
    "Nachteile:\n",
    "* Keine Berücksichtigung von komplexen Sichtmodellen / Sensorrauschen / ... möglich"
   ],
   "id": "db79ce428c9d0591"
  },
  {
   "metadata": {},
   "cell_type": "markdown",
   "source": "## Zielfindung",
   "id": "51340f3524ffa713"
  },
  {
   "metadata": {},
   "cell_type": "markdown",
   "source": "### Frontier Detection",
   "id": "420cac0b7ec61a40"
  },
  {
   "metadata": {},
   "cell_type": "markdown",
   "source": "## Routenplanung und Kollisionsvermeidung",
   "id": "dfacc55f1f1f63b1"
  },
  {
   "metadata": {},
   "cell_type": "markdown",
   "source": "",
   "id": "86843a13d195da2c"
  }
 ],
 "metadata": {
  "kernelspec": {
   "display_name": "Python 3",
   "language": "python",
   "name": "python3"
  },
  "language_info": {
   "codemirror_mode": {
    "name": "ipython",
    "version": 2
   },
   "file_extension": ".py",
   "mimetype": "text/x-python",
   "name": "python",
   "nbconvert_exporter": "python",
   "pygments_lexer": "ipython2",
   "version": "2.7.6"
  }
 },
 "nbformat": 4,
 "nbformat_minor": 5
}
